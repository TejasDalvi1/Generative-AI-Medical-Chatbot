{
 "cells": [
  {
   "cell_type": "code",
   "execution_count": 2,
   "metadata": {},
   "outputs": [
    {
     "name": "stderr",
     "output_type": "stream",
     "text": [
      "c:\\Users\\tejas\\anaconda3\\envs\\medchatbot\\lib\\site-packages\\pinecone\\data\\index.py:1: TqdmWarning: IProgress not found. Please update jupyter and ipywidgets. See https://ipywidgets.readthedocs.io/en/stable/user_install.html\n",
      "  from tqdm.autonotebook import tqdm\n"
     ]
    }
   ],
   "source": [
    "from langchain import PromptTemplate\n",
    "from langchain.chains import RetrievalQA\n",
    "from langchain.embeddings import HuggingFaceEmbeddings\n",
    "from langchain.vectorstores import Pinecone\n",
    "import pinecone\n",
    "from langchain.document_loaders import PyPDFLoader,DirectoryLoader\n",
    "from langchain.text_splitter import RecursiveCharacterTextSplitter\n",
    "from langchain.prompts import PromptTemplate\n",
    "from langchain.llms import CTransformers"
   ]
  },
  {
   "cell_type": "code",
   "execution_count": 3,
   "metadata": {},
   "outputs": [],
   "source": [
    "PINECONE_API_KEY=\"c7a12670-71bb-46f6-a96f-e210732babbe\""
   ]
  },
  {
   "cell_type": "code",
   "execution_count": 4,
   "metadata": {},
   "outputs": [],
   "source": [
    "#Extract data from the PDF\n",
    "def load_pdf(data):\n",
    "    loader = DirectoryLoader(data,\n",
    "                    glob=\"*.pdf\",\n",
    "                    loader_cls=PyPDFLoader)\n",
    "    documents = loader.load()\n",
    "\n",
    "    return documents        "
   ]
  },
  {
   "cell_type": "code",
   "execution_count": 5,
   "metadata": {},
   "outputs": [],
   "source": [
    "extracted_data=load_pdf(\"data/\")"
   ]
  },
  {
   "cell_type": "code",
   "execution_count": 6,
   "metadata": {},
   "outputs": [
    {
     "data": {
      "text/plain": [
       "[Document(page_content='Resources\\nBOOKS\\nA Manual of Laboratory and Diagnostic Tests. 5th ed. Ed.\\nFrancis Fishback. Philadelphia: Lippincott, 1996.\\nGarza, Diana, and Kathleen Becan-McBride. Phlebotomy\\nHandbook. 4th ed. Stamford: Appleton & Lange, 1996.\\nPERIODICALS\\nMoul, Judd W., et al. “The Contemporary Value of Pretreat-\\nment Prostatic Acid Phosphatase to Predict PathologicalStage and Recurrence in Radical Prostatectomy Cases.”Journal of Urology (Mar. 1998): 935-940.\\nNancy J. Nordenson\\nAcid reflux seeHeartburn\\nAcidosis seeRespiratory acidosis; Renal\\ntubular acidosis; Metabolic acidosis\\nAcne\\nDefinition\\nAcne is a common skin disease characterized by\\npimples on the face, chest, and back. It occurs when thepores of the skin become clogged with oil, dead skincells, and bacteria.\\nDescription\\nAcne vulgaris, the medical term for common acne, is\\nthe most common skin disease. It affects nearly 17 millionpeople in the United States. While acne can arise at anyage, it usually begins at puberty and worsens during ado-\\nlescence. Nearly 85% of people develop acne at some timebetween the ages of 12-25 years. Up to 20% of womendevelop mild acne. It is also found in some newborns.\\nThe sebaceous glands lie just beneath the skin’s sur-\\nface. They produce an oil called sebum, the skin’s naturalmoisturizer. These glands and the hair follicles withinwhich they are found are called sebaceous follicles.These follicles open onto the skin through pores. Atpuberty, increased levels of androgens (male hormones)cause the glands to produce too much sebum. Whenexcess sebum combines with dead, sticky skin cells, ahard plug, or comedo, forms that blocks the pore. Mildnoninflammatory acne consists of the two types of come-dones, whiteheads and blackheads.\\nModerate and severe inflammatory types of acne\\nresult after the plugged follicle is invaded by Propioni-\\nbacterium acnes , a bacteria that normally lives on theskin. A pimple forms when the damaged follicle weakens\\nand bursts open, releasing sebum, bacteria, and skin andwhite blood cells into the surrounding tissues. Inflamedpimples near the skin’s surface are called papules; whendeeper, they are called pustules. The most severe type ofacne consists of cysts (closed sacs) and nodules (hardswellings). Scarring occurs when new skin cells are laiddown to replace damaged cells.\\nThe most common sites of acne are the face, chest,\\nshoulders, and back since these are the parts of the bodywhere the most sebaceous follicles are found.\\nCauses and symptoms\\nThe exact cause of acne is unknown. Several risk\\nfactors have been identified:\\n• Age. Due to the hormonal changes they experience,\\nteenagers are more likely to develop acne.\\n• Gender. Boys have more severe acne and develop it\\nmore often than girls.\\n• Disease. Hormonal disorders can complicate acne in\\ngirls.\\n• Heredity. Individuals with a family history of acne have\\ngreater susceptibility to the disease.\\n• Hormonal changes. Acne can flare up before menstrua-\\ntion, during pregnancy , and menopause .\\n• Diet. No foods cause acne, but certain foods may cause\\nflare-ups.\\n• Drugs. Acne can be a side effect of drugs including\\ntranquilizers, antidepressants, antibiotics ,oral contra-\\nceptives , and anabolic steroids.\\n• Personal hygiene. Abrasive soaps, hard scrubbing, or\\npicking at pimples will make them worse.\\n• Cosmetics. Oil-based makeup and hair sprays worsen\\nacne.\\n• Environment. Exposure to oils and greases, polluted air,\\nand sweating in hot weather aggravate acne.\\n•Stress . Emotional stress may contribute to acne.\\nAcne is usually not conspicuous, although inflamed\\nlesions may cause pain , tenderness, itching , or swelling.\\nThe most troubling aspects of these lesions are the nega-tive cosmetic effects and potential for scarring. Somepeople, especially teenagers, become emotionally upsetabout their condition, and have problems forming rela-tionships or keeping jobs.\\nDiagnosis\\nAcne patients are often treated by family doctors.\\nComplicated cases are referred to a dermatologist, a skin\\nGALE ENCYCLOPEDIA OF MEDICINE 2 24AcneGEM - 0001 to 0432 - A  10/22/03 1:41 PM  Page 24', metadata={'source': 'data\\\\Encyclopedia of Medicine-38-40.pdf', 'page': 0}),\n",
       " Document(page_content='disease specialist, or an endocrinologist, a specialist who\\ntreats diseases of the body’s endocrine (hormones andglands) system.\\nAcne has a characteristic appearance and is not diffi-\\ncult to diagnose. The doctor takes a complete medicalhistory, including questions about skin care, diet, factorscausing flare-ups, medication use, and prior treatment.Physical examination includes the face, upper neck,\\nchest, shoulders, back, and other affected areas. Undergood lighting, the doctor determines what types and howmany blemishes are present, whether they are inflamed,whether they are deep or superficial, and whether there isscarring or skin discoloration.\\nIn teenagers, acne is often found on the forehead,\\nnose, and chin. As people get older, acne tends to appeartowards the outer part of the face. Adult women mayhave acne on their chins and around their mouths. Theelderly may develop whiteheads and blackheads on theupper cheeks and skin around the eyes.\\nLaboratory tests are not done unless the patient\\nappears to have a hormonal disorder or other medicalproblem. In this case, blood analyses or other tests maybe ordered. Most insurance plans cover the costs of diag-nosing and treating acne.\\nTreatment\\nAcne treatment consists of reducing sebum produc-\\ntion, removing dead skin cells, and killing bacteria withtopical drugs and oral medications. Treatment choicedepends upon whether the acne is mild, moderate, orsevere.\\nDrugs\\nTOPICAL DRUGS. Treatment for mild noninflamma-\\ntory acne consists of reducing the formation of newcomedones with topical tretinoin, benzoyl peroxide, ada-palene, or salicylic acid. Tretinoin is especially effectivebecause it increases turnover ( death and replacement) of\\nskin cells. When complicated by inflammation, topicalantibiotics may be added to the treatment regimen.Improvement is usually seen in two to four weeks.\\nTopical medications are available as cream, gel,\\nlotion, or pad preparations of varying strengths. Theyinclude antibiotics (agents that kill bacteria), such as ery-thromycin, clindamycin (Cleocin-T), and meclocycline(Meclan); comedolytics (agents that loosen hard plugsand open pores) such as the vitamin A acid tretinoin(Retin-A), salicylic acid, adapalene (Differin), resorci-nol, and sulfur. Drugs that act as both comedolytics andantibiotics, such as benzoyl peroxide, azelaic acid(Azelex), or benzoyl peroxide plus erythromycin (Benza-mycin), are also used. These drugs may be used for\\nmonths to years to achieve disease control.\\nAfter washing with mild soap, the drugs are applied\\nalone or in combination, once or twice a day over theentire affected area of skin. Possible side effects includemild redness, peeling, irritation, dryness, and an increasedsensitivity to sunlight that requires use of a sunscreen.\\nORAL DRUGS. Oral antibiotics are taken daily for\\ntwo to four months. The drugs used include tetracycline,erythromycin, minocycline (Minocin), doxycycline, clin-damycin (Cleocin), and trimethoprim- sulfamethoxazole(Bactrim, Septra). Possible side effects include allergicreactions, stomach upset, vaginal yeast infections, dizzi-\\nness, and tooth discoloration.\\nThe goal of treating moderate acne is to decrease\\ninflammation and prevent new comedone formation. Oneeffective treatment is topical tretinoin along with a topical\\nGALE ENCYCLOPEDIA OF MEDICINE 2 25Acne\\nAcne vulgaris affecting a woman’s face. Acne is the general\\nname given to a skin disorder in which the sebaceousglands become inflamed. (Photograph by Biophoto Associ-\\nates, Photo Researchers, Inc. Reproduced by permission.)GEM - 0001 to 0432 - A  10/22/03 1:41 PM  Page 25', metadata={'source': 'data\\\\Encyclopedia of Medicine-38-40.pdf', 'page': 1}),\n",
       " Document(page_content='or oral antibiotic. A combination of topical benzoyl per-\\noxide and erythromycin is also very effective. Improve-ment is normally seen within four to six weeks, but treat-ment is maintained for at least two to four months.\\nA drug reserved for the treatment of severe acne, oral\\nisotretinoin (Accutane), reduces sebum production andcell stickiness. It is the treatment of choice for severe acnewith cysts and nodules, and is used with or without topicalor oral antibiotics. Taken for four to five months, it pro-vides long-term disease control in up to 60% of patients. Ifthe acne reappears, another course of isotretinoin may beneeded by about 20% of patients, while another 20% maydo well with topical drugs or oral antibiotics. Side effectsinclude temporary worsening of the acne, dry skin, nose-bleeds, vision disorders, and elevated liver enzymes, bloodfats and cholesterol. This drug must not be taken duringpregnancy since it causes birth defects .\\nAnti-androgens, drugs that inhibit androgen produc-\\ntion, are used to treat women who are unresponsive toother therapies. Certain types of oral contraceptives (forKEY TERMS\\nAndrogens —Male sex hormones that are linked\\nwith the development of acne.\\nAntiandrogens —Drugs that inhibit the production\\nof androgens.\\nAntibiotics —Medicines that kill bacteria.\\nComedo —A hard plug composed of sebum and\\ndead skin cells. The mildest type of acne.\\nComedolytic —Drugs that break up comedones\\nand open clogged pores.\\nCorticosteroids —A group of hormones produced\\nby the adrenal glands with different functions,including regulation of fluid balance, androgenactivity, and reaction to inflammation.\\nEstrogens —Hormones produced by the ovaries,\\nthe female sex glands.\\nIsotretinoin —A drug that decreases sebum pro-\\nduction and dries up acne pimples.\\nSebaceous follicles —A structure found within the\\nskin that houses the oil-producing glands and hairfollicles, where pimples form.\\nSebum —An oily skin moisturizer produced by\\nsebaceous glands.\\nTretinoin —A drug that works by increasing the\\nturnover (death and replacement) of skin cells.example, Ortho-Tri-Cyclen) and female sex hormones\\n(estrogens) reduce hormone activity in the ovaries. Otherdrugs, for example, spironolactone and corticosteroids ,\\nreduce hormone activity in the adrenal glands. Improve-ment may take up to four months.\\nOral corticosteroids, or anti-inflammatory drugs, are\\nthe treatment of choice for an extremely severe, but raretype of destructive inflammatory acne called acne fulmi-nans, found mostly in adolescent males. Acne congloba-ta, a more common form of severe inflammation, is char-acterized by numerous, deep, inflammatory nodules thatheal with scarring. It is treated with oral isotretinoin andcorticosteroids.\\nOther treatments\\nSeveral surgical or medical treatments are available\\nto alleviate acne or the resulting scars:\\n• Comedone extraction. The comedo is removed from the\\npore with a special tool.\\n• Chemical peels. Glycolic acid is applied to peel off the\\ntop layer of skin to reduce scarring.\\n• Dermabrasion. The affected skin is frozen with a chem-\\nical spray, and removed by brushing or planing.\\n• Punch grafting. Deep scars are excised and the area\\nrepaired with small skin grafts.\\n• Intralesional injection. Corticosteroids are injected\\ndirectly into inflamed pimples.\\n• Collagen injection. Shallow scars are elevated by colla-\\ngen (protein) injections.\\nAlternative treatment\\nAlternative treatments for acne focus on proper\\ncleansing to keep the skin oil-free; eating a well-bal-anced diet high in fiber, zinc, and raw foods; and avoid-ing alcohol, dairy products, smoking ,caffeine ,\\nsugar,processed foods, and foods high in iodine, such assalt. Supplementation with herbs such as burdock root(Arctium lappa ), red clover ( Trifolium pratense ), and\\nmilk thistle ( Silybum marianum ), and with nutrients such\\nas essential fatty acids, vitamin B complex, zinc, vitaminA, and chromium is also recommended. Chinese herbalremedies used for acne include cnidium seed ( Cnidium\\nmonnieri ) and honeysuckle flower ( Lonicera japonica ).\\nWholistic physicians or nutritionists can recommend theproper amounts of these herbs.\\nPrognosis\\nAcne is not curable, although long-term control is\\nachieved in up to 60% of patients treated with\\nGALE ENCYCLOPEDIA OF MEDICINE 2 26AcneGEM - 0001 to 0432 - A  10/22/03 1:41 PM  Page 26', metadata={'source': 'data\\\\Encyclopedia of Medicine-38-40.pdf', 'page': 2})]"
      ]
     },
     "execution_count": 6,
     "metadata": {},
     "output_type": "execute_result"
    }
   ],
   "source": [
    "extracted_data"
   ]
  },
  {
   "cell_type": "code",
   "execution_count": 7,
   "metadata": {},
   "outputs": [],
   "source": [
    "#create text chunks\n",
    "def text_split(extracted_data):\n",
    "    text_splitter = RecursiveCharacterTextSplitter(chunk_size=500,chunk_overlap=20)\n",
    "    text_chunks = text_splitter.split_documents(extracted_data)\n",
    "\n",
    "    return text_chunks"
   ]
  },
  {
   "cell_type": "code",
   "execution_count": 8,
   "metadata": {},
   "outputs": [
    {
     "name": "stdout",
     "output_type": "stream",
     "text": [
      "length of my chunk: 32\n"
     ]
    }
   ],
   "source": [
    "text_chunks = text_split(extracted_data)\n",
    "print(\"length of my chunk:\",len(text_chunks))"
   ]
  },
  {
   "cell_type": "code",
   "execution_count": 9,
   "metadata": {},
   "outputs": [
    {
     "data": {
      "text/plain": [
       "[Document(page_content='Resources\\nBOOKS\\nA Manual of Laboratory and Diagnostic Tests. 5th ed. Ed.\\nFrancis Fishback. Philadelphia: Lippincott, 1996.\\nGarza, Diana, and Kathleen Becan-McBride. Phlebotomy\\nHandbook. 4th ed. Stamford: Appleton & Lange, 1996.\\nPERIODICALS\\nMoul, Judd W., et al. “The Contemporary Value of Pretreat-\\nment Prostatic Acid Phosphatase to Predict PathologicalStage and Recurrence in Radical Prostatectomy Cases.”Journal of Urology (Mar. 1998): 935-940.\\nNancy J. Nordenson\\nAcid reflux seeHeartburn', metadata={'source': 'data\\\\Encyclopedia of Medicine-38-40.pdf', 'page': 0}),\n",
       " Document(page_content='Acidosis seeRespiratory acidosis; Renal\\ntubular acidosis; Metabolic acidosis\\nAcne\\nDefinition\\nAcne is a common skin disease characterized by\\npimples on the face, chest, and back. It occurs when thepores of the skin become clogged with oil, dead skincells, and bacteria.\\nDescription\\nAcne vulgaris, the medical term for common acne, is', metadata={'source': 'data\\\\Encyclopedia of Medicine-38-40.pdf', 'page': 0}),\n",
       " Document(page_content='the most common skin disease. It affects nearly 17 millionpeople in the United States. While acne can arise at anyage, it usually begins at puberty and worsens during ado-\\nlescence. Nearly 85% of people develop acne at some timebetween the ages of 12-25 years. Up to 20% of womendevelop mild acne. It is also found in some newborns.\\nThe sebaceous glands lie just beneath the skin’s sur-', metadata={'source': 'data\\\\Encyclopedia of Medicine-38-40.pdf', 'page': 0}),\n",
       " Document(page_content='face. They produce an oil called sebum, the skin’s naturalmoisturizer. These glands and the hair follicles withinwhich they are found are called sebaceous follicles.These follicles open onto the skin through pores. Atpuberty, increased levels of androgens (male hormones)cause the glands to produce too much sebum. Whenexcess sebum combines with dead, sticky skin cells, ahard plug, or comedo, forms that blocks the pore. Mildnoninflammatory acne consists of the two types of come-dones, whiteheads', metadata={'source': 'data\\\\Encyclopedia of Medicine-38-40.pdf', 'page': 0}),\n",
       " Document(page_content='whiteheads and blackheads.', metadata={'source': 'data\\\\Encyclopedia of Medicine-38-40.pdf', 'page': 0}),\n",
       " Document(page_content='Moderate and severe inflammatory types of acne\\nresult after the plugged follicle is invaded by Propioni-\\nbacterium acnes , a bacteria that normally lives on theskin. A pimple forms when the damaged follicle weakens', metadata={'source': 'data\\\\Encyclopedia of Medicine-38-40.pdf', 'page': 0}),\n",
       " Document(page_content='and bursts open, releasing sebum, bacteria, and skin andwhite blood cells into the surrounding tissues. Inflamedpimples near the skin’s surface are called papules; whendeeper, they are called pustules. The most severe type ofacne consists of cysts (closed sacs) and nodules (hardswellings). Scarring occurs when new skin cells are laiddown to replace damaged cells.\\nThe most common sites of acne are the face, chest,', metadata={'source': 'data\\\\Encyclopedia of Medicine-38-40.pdf', 'page': 0}),\n",
       " Document(page_content='shoulders, and back since these are the parts of the bodywhere the most sebaceous follicles are found.\\nCauses and symptoms\\nThe exact cause of acne is unknown. Several risk\\nfactors have been identified:\\n• Age. Due to the hormonal changes they experience,\\nteenagers are more likely to develop acne.\\n• Gender. Boys have more severe acne and develop it\\nmore often than girls.\\n• Disease. Hormonal disorders can complicate acne in\\ngirls.\\n• Heredity. Individuals with a family history of acne have', metadata={'source': 'data\\\\Encyclopedia of Medicine-38-40.pdf', 'page': 0}),\n",
       " Document(page_content='greater susceptibility to the disease.\\n• Hormonal changes. Acne can flare up before menstrua-\\ntion, during pregnancy , and menopause .\\n• Diet. No foods cause acne, but certain foods may cause\\nflare-ups.\\n• Drugs. Acne can be a side effect of drugs including\\ntranquilizers, antidepressants, antibiotics ,oral contra-\\nceptives , and anabolic steroids.\\n• Personal hygiene. Abrasive soaps, hard scrubbing, or\\npicking at pimples will make them worse.\\n• Cosmetics. Oil-based makeup and hair sprays worsen', metadata={'source': 'data\\\\Encyclopedia of Medicine-38-40.pdf', 'page': 0}),\n",
       " Document(page_content='acne.\\n• Environment. Exposure to oils and greases, polluted air,\\nand sweating in hot weather aggravate acne.\\n•Stress . Emotional stress may contribute to acne.\\nAcne is usually not conspicuous, although inflamed\\nlesions may cause pain , tenderness, itching , or swelling.', metadata={'source': 'data\\\\Encyclopedia of Medicine-38-40.pdf', 'page': 0}),\n",
       " Document(page_content='The most troubling aspects of these lesions are the nega-tive cosmetic effects and potential for scarring. Somepeople, especially teenagers, become emotionally upsetabout their condition, and have problems forming rela-tionships or keeping jobs.\\nDiagnosis\\nAcne patients are often treated by family doctors.\\nComplicated cases are referred to a dermatologist, a skin\\nGALE ENCYCLOPEDIA OF MEDICINE 2 24AcneGEM - 0001 to 0432 - A  10/22/03 1:41 PM  Page 24', metadata={'source': 'data\\\\Encyclopedia of Medicine-38-40.pdf', 'page': 0}),\n",
       " Document(page_content='disease specialist, or an endocrinologist, a specialist who\\ntreats diseases of the body’s endocrine (hormones andglands) system.\\nAcne has a characteristic appearance and is not diffi-\\ncult to diagnose. The doctor takes a complete medicalhistory, including questions about skin care, diet, factorscausing flare-ups, medication use, and prior treatment.Physical examination includes the face, upper neck,', metadata={'source': 'data\\\\Encyclopedia of Medicine-38-40.pdf', 'page': 1}),\n",
       " Document(page_content='chest, shoulders, back, and other affected areas. Undergood lighting, the doctor determines what types and howmany blemishes are present, whether they are inflamed,whether they are deep or superficial, and whether there isscarring or skin discoloration.\\nIn teenagers, acne is often found on the forehead,', metadata={'source': 'data\\\\Encyclopedia of Medicine-38-40.pdf', 'page': 1}),\n",
       " Document(page_content='nose, and chin. As people get older, acne tends to appeartowards the outer part of the face. Adult women mayhave acne on their chins and around their mouths. Theelderly may develop whiteheads and blackheads on theupper cheeks and skin around the eyes.\\nLaboratory tests are not done unless the patient\\nappears to have a hormonal disorder or other medicalproblem. In this case, blood analyses or other tests maybe ordered. Most insurance plans cover the costs of diag-nosing and treating acne.', metadata={'source': 'data\\\\Encyclopedia of Medicine-38-40.pdf', 'page': 1}),\n",
       " Document(page_content='Treatment\\nAcne treatment consists of reducing sebum produc-\\ntion, removing dead skin cells, and killing bacteria withtopical drugs and oral medications. Treatment choicedepends upon whether the acne is mild, moderate, orsevere.\\nDrugs\\nTOPICAL DRUGS. Treatment for mild noninflamma-', metadata={'source': 'data\\\\Encyclopedia of Medicine-38-40.pdf', 'page': 1}),\n",
       " Document(page_content='tory acne consists of reducing the formation of newcomedones with topical tretinoin, benzoyl peroxide, ada-palene, or salicylic acid. Tretinoin is especially effectivebecause it increases turnover ( death and replacement) of\\nskin cells. When complicated by inflammation, topicalantibiotics may be added to the treatment regimen.Improvement is usually seen in two to four weeks.\\nTopical medications are available as cream, gel,', metadata={'source': 'data\\\\Encyclopedia of Medicine-38-40.pdf', 'page': 1}),\n",
       " Document(page_content='lotion, or pad preparations of varying strengths. Theyinclude antibiotics (agents that kill bacteria), such as ery-thromycin, clindamycin (Cleocin-T), and meclocycline(Meclan); comedolytics (agents that loosen hard plugsand open pores) such as the vitamin A acid tretinoin(Retin-A), salicylic acid, adapalene (Differin), resorci-nol, and sulfur. Drugs that act as both comedolytics andantibiotics, such as benzoyl peroxide, azelaic acid(Azelex), or benzoyl peroxide plus erythromycin (Benza-mycin),', metadata={'source': 'data\\\\Encyclopedia of Medicine-38-40.pdf', 'page': 1}),\n",
       " Document(page_content='(Benza-mycin), are also used. These drugs may be used for', metadata={'source': 'data\\\\Encyclopedia of Medicine-38-40.pdf', 'page': 1}),\n",
       " Document(page_content='months to years to achieve disease control.\\nAfter washing with mild soap, the drugs are applied\\nalone or in combination, once or twice a day over theentire affected area of skin. Possible side effects includemild redness, peeling, irritation, dryness, and an increasedsensitivity to sunlight that requires use of a sunscreen.\\nORAL DRUGS. Oral antibiotics are taken daily for', metadata={'source': 'data\\\\Encyclopedia of Medicine-38-40.pdf', 'page': 1}),\n",
       " Document(page_content='two to four months. The drugs used include tetracycline,erythromycin, minocycline (Minocin), doxycycline, clin-damycin (Cleocin), and trimethoprim- sulfamethoxazole(Bactrim, Septra). Possible side effects include allergicreactions, stomach upset, vaginal yeast infections, dizzi-\\nness, and tooth discoloration.\\nThe goal of treating moderate acne is to decrease\\ninflammation and prevent new comedone formation. Oneeffective treatment is topical tretinoin along with a topical', metadata={'source': 'data\\\\Encyclopedia of Medicine-38-40.pdf', 'page': 1}),\n",
       " Document(page_content='GALE ENCYCLOPEDIA OF MEDICINE 2 25Acne\\nAcne vulgaris affecting a woman’s face. Acne is the general\\nname given to a skin disorder in which the sebaceousglands become inflamed. (Photograph by Biophoto Associ-\\nates, Photo Researchers, Inc. Reproduced by permission.)GEM - 0001 to 0432 - A  10/22/03 1:41 PM  Page 25', metadata={'source': 'data\\\\Encyclopedia of Medicine-38-40.pdf', 'page': 1}),\n",
       " Document(page_content='or oral antibiotic. A combination of topical benzoyl per-\\noxide and erythromycin is also very effective. Improve-ment is normally seen within four to six weeks, but treat-ment is maintained for at least two to four months.\\nA drug reserved for the treatment of severe acne, oral', metadata={'source': 'data\\\\Encyclopedia of Medicine-38-40.pdf', 'page': 2}),\n",
       " Document(page_content='isotretinoin (Accutane), reduces sebum production andcell stickiness. It is the treatment of choice for severe acnewith cysts and nodules, and is used with or without topicalor oral antibiotics. Taken for four to five months, it pro-vides long-term disease control in up to 60% of patients. Ifthe acne reappears, another course of isotretinoin may beneeded by about 20% of patients, while another 20% maydo well with topical drugs or oral antibiotics. Side effectsinclude temporary worsening of the', metadata={'source': 'data\\\\Encyclopedia of Medicine-38-40.pdf', 'page': 2}),\n",
       " Document(page_content='worsening of the acne, dry skin, nose-bleeds, vision disorders, and elevated liver enzymes, bloodfats and cholesterol. This drug must not be taken duringpregnancy since it causes birth defects .', metadata={'source': 'data\\\\Encyclopedia of Medicine-38-40.pdf', 'page': 2}),\n",
       " Document(page_content='Anti-androgens, drugs that inhibit androgen produc-\\ntion, are used to treat women who are unresponsive toother therapies. Certain types of oral contraceptives (forKEY TERMS\\nAndrogens —Male sex hormones that are linked\\nwith the development of acne.\\nAntiandrogens —Drugs that inhibit the production\\nof androgens.\\nAntibiotics —Medicines that kill bacteria.\\nComedo —A hard plug composed of sebum and\\ndead skin cells. The mildest type of acne.\\nComedolytic —Drugs that break up comedones', metadata={'source': 'data\\\\Encyclopedia of Medicine-38-40.pdf', 'page': 2}),\n",
       " Document(page_content='and open clogged pores.\\nCorticosteroids —A group of hormones produced\\nby the adrenal glands with different functions,including regulation of fluid balance, androgenactivity, and reaction to inflammation.\\nEstrogens —Hormones produced by the ovaries,\\nthe female sex glands.\\nIsotretinoin —A drug that decreases sebum pro-\\nduction and dries up acne pimples.\\nSebaceous follicles —A structure found within the\\nskin that houses the oil-producing glands and hairfollicles, where pimples form.', metadata={'source': 'data\\\\Encyclopedia of Medicine-38-40.pdf', 'page': 2}),\n",
       " Document(page_content='Sebum —An oily skin moisturizer produced by\\nsebaceous glands.\\nTretinoin —A drug that works by increasing the\\nturnover (death and replacement) of skin cells.example, Ortho-Tri-Cyclen) and female sex hormones\\n(estrogens) reduce hormone activity in the ovaries. Otherdrugs, for example, spironolactone and corticosteroids ,\\nreduce hormone activity in the adrenal glands. Improve-ment may take up to four months.\\nOral corticosteroids, or anti-inflammatory drugs, are', metadata={'source': 'data\\\\Encyclopedia of Medicine-38-40.pdf', 'page': 2}),\n",
       " Document(page_content='the treatment of choice for an extremely severe, but raretype of destructive inflammatory acne called acne fulmi-nans, found mostly in adolescent males. Acne congloba-ta, a more common form of severe inflammation, is char-acterized by numerous, deep, inflammatory nodules thatheal with scarring. It is treated with oral isotretinoin andcorticosteroids.\\nOther treatments\\nSeveral surgical or medical treatments are available\\nto alleviate acne or the resulting scars:', metadata={'source': 'data\\\\Encyclopedia of Medicine-38-40.pdf', 'page': 2}),\n",
       " Document(page_content='• Comedone extraction. The comedo is removed from the\\npore with a special tool.\\n• Chemical peels. Glycolic acid is applied to peel off the\\ntop layer of skin to reduce scarring.\\n• Dermabrasion. The affected skin is frozen with a chem-\\nical spray, and removed by brushing or planing.\\n• Punch grafting. Deep scars are excised and the area\\nrepaired with small skin grafts.\\n• Intralesional injection. Corticosteroids are injected\\ndirectly into inflamed pimples.', metadata={'source': 'data\\\\Encyclopedia of Medicine-38-40.pdf', 'page': 2}),\n",
       " Document(page_content='• Collagen injection. Shallow scars are elevated by colla-\\ngen (protein) injections.\\nAlternative treatment\\nAlternative treatments for acne focus on proper\\ncleansing to keep the skin oil-free; eating a well-bal-anced diet high in fiber, zinc, and raw foods; and avoid-ing alcohol, dairy products, smoking ,caffeine ,\\nsugar,processed foods, and foods high in iodine, such assalt. Supplementation with herbs such as burdock root(Arctium lappa ), red clover ( Trifolium pratense ), and', metadata={'source': 'data\\\\Encyclopedia of Medicine-38-40.pdf', 'page': 2}),\n",
       " Document(page_content='milk thistle ( Silybum marianum ), and with nutrients such\\nas essential fatty acids, vitamin B complex, zinc, vitaminA, and chromium is also recommended. Chinese herbalremedies used for acne include cnidium seed ( Cnidium\\nmonnieri ) and honeysuckle flower ( Lonicera japonica ).\\nWholistic physicians or nutritionists can recommend theproper amounts of these herbs.\\nPrognosis\\nAcne is not curable, although long-term control is\\nachieved in up to 60% of patients treated with', metadata={'source': 'data\\\\Encyclopedia of Medicine-38-40.pdf', 'page': 2}),\n",
       " Document(page_content='GALE ENCYCLOPEDIA OF MEDICINE 2 26AcneGEM - 0001 to 0432 - A  10/22/03 1:41 PM  Page 26', metadata={'source': 'data\\\\Encyclopedia of Medicine-38-40.pdf', 'page': 2})]"
      ]
     },
     "execution_count": 9,
     "metadata": {},
     "output_type": "execute_result"
    }
   ],
   "source": [
    "text_chunks"
   ]
  },
  {
   "cell_type": "code",
   "execution_count": 10,
   "metadata": {},
   "outputs": [],
   "source": [
    "#download embedding model\n",
    "def download_hugging_face_embeddings():\n",
    "    embeddings = HuggingFaceEmbeddings(model_name=\"sentence-transformers/all-MiniLM-L6-v2\")\n",
    "    return embeddings"
   ]
  },
  {
   "cell_type": "code",
   "execution_count": 11,
   "metadata": {},
   "outputs": [],
   "source": [
    "embeddings=download_hugging_face_embeddings()"
   ]
  },
  {
   "cell_type": "code",
   "execution_count": 12,
   "metadata": {},
   "outputs": [
    {
     "data": {
      "text/plain": [
       "HuggingFaceEmbeddings(client=SentenceTransformer(\n",
       "  (0): Transformer({'max_seq_length': 256, 'do_lower_case': False}) with Transformer model: BertModel \n",
       "  (1): Pooling({'word_embedding_dimension': 384, 'pooling_mode_cls_token': False, 'pooling_mode_mean_tokens': True, 'pooling_mode_max_tokens': False, 'pooling_mode_mean_sqrt_len_tokens': False})\n",
       "  (2): Normalize()\n",
       "), model_name='sentence-transformers/all-MiniLM-L6-v2', cache_folder=None, model_kwargs={}, encode_kwargs={}, multi_process=False, show_progress=False)"
      ]
     },
     "execution_count": 12,
     "metadata": {},
     "output_type": "execute_result"
    }
   ],
   "source": [
    "embeddings"
   ]
  },
  {
   "cell_type": "code",
   "execution_count": 13,
   "metadata": {},
   "outputs": [
    {
     "name": "stdout",
     "output_type": "stream",
     "text": [
      "Length = 384\n"
     ]
    }
   ],
   "source": [
    "#testing embedding model\n",
    "query_result=embeddings.embed_query(\"Hi! how are you?\")\n",
    "print(\"Length =\",len(query_result))"
   ]
  },
  {
   "cell_type": "code",
   "execution_count": 14,
   "metadata": {},
   "outputs": [],
   "source": [
    "import os\n",
    "from langchain_pinecone import PineconeVectorStore\n",
    "\n",
    "os.environ['PINECONE_API_KEY'] = PINECONE_API_KEY\n",
    "\n",
    "index_name = \"medical-chatbot\"\n",
    "\n",
    "# Connect to Pinecone index and insert the chunked docs as contents\n",
    "docsearch = PineconeVectorStore.from_documents(text_chunks, embeddings, index_name=index_name)"
   ]
  },
  {
   "cell_type": "code",
   "execution_count": 30,
   "metadata": {},
   "outputs": [
    {
     "data": {
      "text/plain": [
       "{'dimension': 384,\n",
       " 'index_fullness': 0.0,\n",
       " 'namespaces': {'real': {'vector_count': 7031}},\n",
       " 'total_vector_count': 7031}"
      ]
     },
     "execution_count": 30,
     "metadata": {},
     "output_type": "execute_result"
    }
   ],
   "source": [
    "from pinecone import Pinecone\n",
    "pinecone_obj = Pinecone(api_key=PINECONE_API_KEY)  \n",
    "\n",
    " \n",
    "index_name=\"medical-chatbot\"\n",
    "index = pinecone_obj.Index(index_name)  \n",
    "for i, t in zip(range(len(text_chunks)), text_chunks):\n",
    "   query_result = embeddings.embed_query(t.page_content)\n",
    "   index.upsert(\n",
    "   vectors=[\n",
    "        {\n",
    "            \"id\": str(i),  # Convert i to a string\n",
    "            \"values\": query_result, \n",
    "            \"metadata\": {\"text\":str(text_chunks[i].page_content)} # meta data as dic\n",
    "        }\n",
    "    ],\n",
    "    namespace=\"real\" \n",
    ")\n",
    "\n",
    "index.describe_index_stats() "
   ]
  },
  {
   "cell_type": "code",
   "execution_count": 15,
   "metadata": {},
   "outputs": [
    {
     "name": "stdout",
     "output_type": "stream",
     "text": [
      "Result [Document(page_content='Acidosis seeRespiratory acidosis; Renal\\ntubular acidosis; Metabolic acidosis\\nAcne\\nDefinition\\nAcne is a common skin disease characterized by\\npimples on the face, chest, and back. It occurs when thepores of the skin become clogged with oil, dead skincells, and bacteria.\\nDescription\\nAcne vulgaris, the medical term for common acne, is', metadata={'page': 0.0, 'source': 'data\\\\Encyclopedia of Medicine-38-40.pdf'}), Document(page_content='Acidosis seeRespiratory acidosis; Renal\\ntubular acidosis; Metabolic acidosis\\nAcne\\nDefinition\\nAcne is a common skin disease characterized by\\npimples on the face, chest, and back. It occurs when thepores of the skin become clogged with oil, dead skincells, and bacteria.\\nDescription\\nAcne vulgaris, the medical term for common acne, is', metadata={'page': 0.0, 'source': 'data\\\\Encyclopedia of Medicine-38-40.pdf'}), Document(page_content='GALE ENCYCLOPEDIA OF MEDICINE 2 25Acne\\nAcne vulgaris affecting a woman’s face. Acne is the general\\nname given to a skin disorder in which the sebaceousglands become inflamed. (Photograph by Biophoto Associ-\\nates, Photo Researchers, Inc. Reproduced by permission.)GEM - 0001 to 0432 - A  10/22/03 1:41 PM  Page 25', metadata={'page': 1.0, 'source': 'data\\\\Encyclopedia of Medicine-38-40.pdf'})]\n"
     ]
    }
   ],
   "source": [
    "#If we already have an index we can load it like this\n",
    "docsearch=PineconeVectorStore.from_existing_index(index_name, embeddings)\n",
    "\n",
    "query = \"What is acne?\"\n",
    "\n",
    "docs=docsearch.similarity_search(query, k=3)\n",
    "\n",
    "print(\"Result\", docs)"
   ]
  },
  {
   "cell_type": "code",
   "execution_count": 16,
   "metadata": {},
   "outputs": [],
   "source": [
    "prompt_template=\"\"\"\n",
    "Use the following pieces of information to answer the user's question.\n",
    "If you don't know the answer, just say that you don't know, don't try to make up an answer.\n",
    "\n",
    "Context: {context}\n",
    "Question: {question}\n",
    "\n",
    "Only return the helpful answer below and nothing else.\n",
    "Helpful answer:\n",
    "\"\"\""
   ]
  },
  {
   "cell_type": "code",
   "execution_count": 17,
   "metadata": {},
   "outputs": [],
   "source": [
    "PROMPT=PromptTemplate(template=prompt_template, input_variables=[\"context\", \"question\"])\n",
    "chain_type_kwargs={\"prompt\": PROMPT}"
   ]
  },
  {
   "cell_type": "code",
   "execution_count": 18,
   "metadata": {},
   "outputs": [],
   "source": [
    "llm=CTransformers(model=\"model/llama-2-7b-chat.ggmlv3.q4_0.bin\",\n",
    "                  model_type=\"llama\",\n",
    "                  config={'max_new_tokens':512,\n",
    "                          'temperature':0.8})"
   ]
  },
  {
   "cell_type": "code",
   "execution_count": 21,
   "metadata": {},
   "outputs": [],
   "source": [
    "qa=RetrievalQA.from_chain_type(\n",
    "    llm=llm, \n",
    "    chain_type=\"stuff\", \n",
    "    retriever=docsearch.as_retriever(search_kwargs={'k': 2}),\n",
    "    return_source_documents=True,\n",
    "    chain_type_kwargs=chain_type_kwargs)"
   ]
  },
  {
   "cell_type": "code",
   "execution_count": 22,
   "metadata": {},
   "outputs": [],
   "source": [
    "while True:\n",
    "    user_input=input(f\"Input Prompt:\")\n",
    "    result=qa({\"query\": user_input})\n",
    "    print(\"Response : \", result[\"result\"])"
   ]
  }
 ],
 "metadata": {
  "kernelspec": {
   "display_name": "medchatbot",
   "language": "python",
   "name": "python3"
  },
  "language_info": {
   "codemirror_mode": {
    "name": "ipython",
    "version": 3
   },
   "file_extension": ".py",
   "mimetype": "text/x-python",
   "name": "python",
   "nbconvert_exporter": "python",
   "pygments_lexer": "ipython3",
   "version": "3.8.19"
  }
 },
 "nbformat": 4,
 "nbformat_minor": 2
}
